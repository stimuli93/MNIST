{
 "cells": [
  {
   "cell_type": "code",
   "execution_count": 1,
   "metadata": {
    "collapsed": true
   },
   "outputs": [],
   "source": [
    "import numpy as np\n",
    "import pandas as pd\n",
    "import tensorflow as tf"
   ]
  },
  {
   "cell_type": "code",
   "execution_count": 2,
   "metadata": {
    "collapsed": true
   },
   "outputs": [],
   "source": [
    "train = pd.read_csv('train.csv')\n",
    "test = pd.read_csv('test.csv')"
   ]
  },
  {
   "cell_type": "code",
   "execution_count": 3,
   "metadata": {
    "collapsed": false
   },
   "outputs": [],
   "source": [
    "X = train.drop(['label'],axis=1).values\n",
    "y = pd.get_dummies(train['label']).values\n",
    "X = X/255.0"
   ]
  },
  {
   "cell_type": "code",
   "execution_count": 4,
   "metadata": {
    "collapsed": true
   },
   "outputs": [],
   "source": [
    "from sklearn.cross_validation import train_test_split\n",
    "X_train,X_val,y_train,y_val = train_test_split(X,y,test_size=0.3)"
   ]
  },
  {
   "cell_type": "code",
   "execution_count": 5,
   "metadata": {
    "collapsed": true
   },
   "outputs": [],
   "source": [
    "X_inp = tf.placeholder(tf.float32,[None,784])\n",
    "y_inp = tf.placeholder(tf.float32,[None,10])\n",
    "W1 = tf.Variable(tf.random_normal([784,300]))\n",
    "b1 = tf.Variable(tf.zeros([300]))\n",
    "W2 = tf.Variable(tf.random_normal([300,10]))\n",
    "b2 = tf.Variable(tf.zeros([10]))"
   ]
  },
  {
   "cell_type": "code",
   "execution_count": 6,
   "metadata": {
    "collapsed": false
   },
   "outputs": [],
   "source": [
    "a1 = tf.nn.relu(tf.matmul(X_inp,W1) + b1)\n",
    "y_pred = tf.nn.softmax(tf.matmul(a1,W2)+b2)"
   ]
  },
  {
   "cell_type": "code",
   "execution_count": 7,
   "metadata": {
    "collapsed": true
   },
   "outputs": [],
   "source": [
    "reg = 0.001"
   ]
  },
  {
   "cell_type": "code",
   "execution_count": 8,
   "metadata": {
    "collapsed": true
   },
   "outputs": [],
   "source": [
    "cross_entropy = tf.reduce_mean(-tf.reduce_sum(y_inp*tf.log(tf.clip_by_value(y_pred,1e-10,1.0)), reduction_indices=[1])) + reg*(tf.reduce_sum(W1*W1) + tf.reduce_sum(W2*W2))\n",
    "train_step = tf.train.AdamOptimizer(0.001).minimize(cross_entropy)"
   ]
  },
  {
   "cell_type": "code",
   "execution_count": 12,
   "metadata": {
    "collapsed": true
   },
   "outputs": [],
   "source": [
    "init = tf.initialize_all_variables()\n",
    "sess = tf.Session()\n",
    "sess.run(init)"
   ]
  },
  {
   "cell_type": "code",
   "execution_count": 13,
   "metadata": {
    "collapsed": true
   },
   "outputs": [],
   "source": [
    "correct_prediction = tf.equal(tf.argmax(y_pred,1),tf.argmax(y_inp,1))\n",
    "accuracy = tf.reduce_mean(tf.cast(correct_prediction,tf.float32))"
   ]
  },
  {
   "cell_type": "code",
   "execution_count": 16,
   "metadata": {
    "collapsed": false
   },
   "outputs": [
    {
     "name": "stdout",
     "output_type": "stream",
     "text": [
      "step 0, training accuracy 0.976667,\n",
      "step 100, training accuracy 0.99,\n",
      "step 200, training accuracy 0.98,\n",
      "step 300, training accuracy 0.966667,\n",
      "step 400, training accuracy 0.983333,\n",
      "step 500, training accuracy 0.983333,\n",
      "step 600, training accuracy 0.99,\n",
      "step 700, training accuracy 0.98,\n",
      "step 800, training accuracy 0.966667,\n",
      "step 900, training accuracy 0.98,\n",
      "step 1000, training accuracy 0.986667,\n",
      "step 1100, training accuracy 0.976667,\n",
      "step 1200, training accuracy 0.98,\n",
      "step 1300, training accuracy 0.976667,\n",
      "step 1400, training accuracy 0.973333,\n",
      "step 1500, training accuracy 0.99,\n",
      "step 1600, training accuracy 0.98,\n",
      "step 1700, training accuracy 0.973333,\n",
      "step 1800, training accuracy 0.993333,\n",
      "step 1900, training accuracy 0.986667,\n",
      "step 2000, training accuracy 0.99,\n",
      "step 2100, training accuracy 0.986667,\n",
      "step 2200, training accuracy 0.973333,\n",
      "step 2300, training accuracy 0.98,\n",
      "step 2400, training accuracy 0.98,\n",
      "step 2500, training accuracy 0.986667,\n",
      "step 2600, training accuracy 0.973333,\n",
      "step 2700, training accuracy 0.993333,\n",
      "step 2800, training accuracy 0.99,\n",
      "step 2900, training accuracy 0.983333,\n"
     ]
    }
   ],
   "source": [
    "for i in xrange(3000):\n",
    "    ids = np.random.choice(X_train.shape[0],300)\n",
    "    x_batch = X[ids]\n",
    "    y_batch = y[ids]\n",
    "    if i%100 == 0:\n",
    "        train_accuracy = sess.run(accuracy,feed_dict={\n",
    "        X_inp:x_batch, y_inp: y_batch})\n",
    "#         val_accuracy = sess.run(accuracy,feed_dict={\n",
    "#         X_inp:X_val, y_inp: y_val})\n",
    "        print(\"step %d, training accuracy %g,\"%(i, train_accuracy))\n",
    "    sess.run(train_step,feed_dict={X_inp:x_batch, y_inp:y_batch})"
   ]
  },
  {
   "cell_type": "code",
   "execution_count": 18,
   "metadata": {
    "collapsed": false
   },
   "outputs": [],
   "source": [
    "X_test = test.values\n",
    "X_test = X_test/255.0\n",
    "ypred = sess.run(tf.argmax(y_pred,1),feed_dict={X_inp:X_test})"
   ]
  },
  {
   "cell_type": "code",
   "execution_count": 19,
   "metadata": {
    "collapsed": false
   },
   "outputs": [
    {
     "data": {
      "text/html": [
       "<div>\n",
       "<table border=\"1\" class=\"dataframe\">\n",
       "  <thead>\n",
       "    <tr style=\"text-align: right;\">\n",
       "      <th></th>\n",
       "      <th>ImageId</th>\n",
       "      <th>Label</th>\n",
       "    </tr>\n",
       "  </thead>\n",
       "  <tbody>\n",
       "    <tr>\n",
       "      <th>0</th>\n",
       "      <td>1</td>\n",
       "      <td>2</td>\n",
       "    </tr>\n",
       "    <tr>\n",
       "      <th>1</th>\n",
       "      <td>2</td>\n",
       "      <td>0</td>\n",
       "    </tr>\n",
       "    <tr>\n",
       "      <th>2</th>\n",
       "      <td>3</td>\n",
       "      <td>9</td>\n",
       "    </tr>\n",
       "    <tr>\n",
       "      <th>3</th>\n",
       "      <td>4</td>\n",
       "      <td>9</td>\n",
       "    </tr>\n",
       "    <tr>\n",
       "      <th>4</th>\n",
       "      <td>5</td>\n",
       "      <td>3</td>\n",
       "    </tr>\n",
       "  </tbody>\n",
       "</table>\n",
       "</div>"
      ],
      "text/plain": [
       "   ImageId  Label\n",
       "0        1      2\n",
       "1        2      0\n",
       "2        3      9\n",
       "3        4      9\n",
       "4        5      3"
      ]
     },
     "execution_count": 19,
     "metadata": {},
     "output_type": "execute_result"
    }
   ],
   "source": [
    "columns = ['ImageId','Label']\n",
    "df = pd.DataFrame(data=np.zeros((test.shape[0],2)), columns=columns)\n",
    "df['ImageId'] = xrange(test.shape[0])\n",
    "df['ImageId'] += 1\n",
    "df['Label'] = ypred\n",
    "df.head()"
   ]
  },
  {
   "cell_type": "code",
   "execution_count": 20,
   "metadata": {
    "collapsed": true
   },
   "outputs": [],
   "source": [
    "df.to_csv('MLP.csv',index=False)"
   ]
  },
  {
   "cell_type": "markdown",
   "metadata": {},
   "source": [
    "Got 0.96486 on Kaggle "
   ]
  }
 ],
 "metadata": {
  "kernelspec": {
   "display_name": "Python 2",
   "language": "python",
   "name": "python2"
  },
  "language_info": {
   "codemirror_mode": {
    "name": "ipython",
    "version": 2
   },
   "file_extension": ".py",
   "mimetype": "text/x-python",
   "name": "python",
   "nbconvert_exporter": "python",
   "pygments_lexer": "ipython2",
   "version": "2.7.11"
  }
 },
 "nbformat": 4,
 "nbformat_minor": 0
}
